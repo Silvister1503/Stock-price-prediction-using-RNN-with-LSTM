{
  "nbformat": 4,
  "nbformat_minor": 0,
  "metadata": {
    "colab": {
      "name": "rnn.ipynb",
      "provenance": [],
      "collapsed_sections": []
    },
    "kernelspec": {
      "name": "python3",
      "display_name": "Python 3"
    }
  },
  "cells": [
    {
      "cell_type": "markdown",
      "metadata": {
        "id": "xpAuMVCwfWs8"
      },
      "source": [
        "# Recurrent Neural Network"
      ]
    },
    {
      "cell_type": "markdown",
      "metadata": {
        "id": "nxJfRe4bfYVA"
      },
      "source": [
        "## Part 1 - Data Preprocessing"
      ]
    },
    {
      "cell_type": "markdown",
      "metadata": {
        "id": "ir9zwETrfbrp"
      },
      "source": [
        "### Importing the libraries"
      ]
    },
    {
      "cell_type": "code",
      "metadata": {
        "id": "ZT1f24vHffuf"
      },
      "source": [
        "import numpy as np\n",
        "import matplotlib.pyplot as plt\n",
        "import pandas as pd"
      ],
      "execution_count": 1,
      "outputs": []
    },
    {
      "cell_type": "markdown",
      "metadata": {
        "id": "nQ47JAxrgmaL"
      },
      "source": [
        "### Importing the training set"
      ]
    },
    {
      "cell_type": "code",
      "metadata": {
        "id": "1xiv3pJOgqY3"
      },
      "source": [
        "dataset_train = pd.read_csv('Google_Stock_Price_Train.csv')\n",
        "training_set = dataset_train.iloc[:, 1:2].values"
      ],
      "execution_count": 2,
      "outputs": []
    },
    {
      "cell_type": "markdown",
      "metadata": {
        "id": "HT8_2UJegtG5"
      },
      "source": [
        "### Feature Scaling"
      ]
    },
    {
      "cell_type": "code",
      "metadata": {
        "id": "OTrF2kR7gx9x"
      },
      "source": [
        "from sklearn.preprocessing import MinMaxScaler\n",
        "sc = MinMaxScaler(feature_range = (0, 1))\n",
        "training_set_scaled = sc.fit_transform(training_set)"
      ],
      "execution_count": 3,
      "outputs": []
    },
    {
      "cell_type": "markdown",
      "metadata": {
        "id": "JyYgYocqhNUg"
      },
      "source": [
        "### Creating a data structure with 60 timesteps and 1 output"
      ]
    },
    {
      "cell_type": "code",
      "metadata": {
        "id": "iofU21B0i6ST"
      },
      "source": [
        "X_train = []\n",
        "y_train = []\n",
        "for i in range(60, 1258):\n",
        "    X_train.append(training_set_scaled[i-60:i, 0])\n",
        "    y_train.append(training_set_scaled[i, 0])\n",
        "X_train, y_train = np.array(X_train), np.array(y_train)"
      ],
      "execution_count": 4,
      "outputs": []
    },
    {
      "cell_type": "markdown",
      "metadata": {
        "id": "D8yaN7Zvi95l"
      },
      "source": [
        "### Reshaping"
      ]
    },
    {
      "cell_type": "code",
      "metadata": {
        "id": "FOXqJHmNjBkz"
      },
      "source": [
        "X_train = np.reshape(X_train, (X_train.shape[0], X_train.shape[1], 1))"
      ],
      "execution_count": 5,
      "outputs": []
    },
    {
      "cell_type": "markdown",
      "metadata": {
        "id": "ZRRSOJeVjEWV"
      },
      "source": [
        "## Part 2 - Building and Training the RNN"
      ]
    },
    {
      "cell_type": "markdown",
      "metadata": {
        "id": "k4XV88JMjHXG"
      },
      "source": [
        "### Importing the Keras libraries and packages"
      ]
    },
    {
      "cell_type": "code",
      "metadata": {
        "id": "9JRnqsxEjKsD"
      },
      "source": [
        "from keras.models import Sequential\n",
        "from keras.layers import Dense\n",
        "from keras.layers import LSTM\n",
        "from keras.layers import Dropout"
      ],
      "execution_count": 6,
      "outputs": []
    },
    {
      "cell_type": "markdown",
      "metadata": {
        "id": "FEIE-1s9jNzC"
      },
      "source": [
        "### Initialising the RNN"
      ]
    },
    {
      "cell_type": "code",
      "metadata": {
        "id": "1338dJ0UjRKH"
      },
      "source": [
        "regressor = Sequential()"
      ],
      "execution_count": 7,
      "outputs": []
    },
    {
      "cell_type": "markdown",
      "metadata": {
        "id": "62eg1OPGjT8z"
      },
      "source": [
        "### Adding the first LSTM layer and some Dropout regularisation"
      ]
    },
    {
      "cell_type": "code",
      "metadata": {
        "id": "2hIinyXUjbVU"
      },
      "source": [
        "regressor.add(LSTM(units = 50, return_sequences = True, input_shape = (X_train.shape[1], 1)))\n",
        "regressor.add(Dropout(0.2))"
      ],
      "execution_count": 8,
      "outputs": []
    },
    {
      "cell_type": "markdown",
      "metadata": {
        "id": "3XBIYLyOjlMx"
      },
      "source": [
        "### Adding a second LSTM layer and some Dropout regularisation"
      ]
    },
    {
      "cell_type": "code",
      "metadata": {
        "id": "UG7nrVaSjuZ2"
      },
      "source": [
        "regressor.add(LSTM(units = 50, return_sequences = True))\n",
        "regressor.add(Dropout(0.2))"
      ],
      "execution_count": 9,
      "outputs": []
    },
    {
      "cell_type": "markdown",
      "metadata": {
        "id": "Ey3fHVnGj1cu"
      },
      "source": [
        "### Adding a third LSTM layer and some Dropout regularisation"
      ]
    },
    {
      "cell_type": "code",
      "metadata": {
        "id": "PuNi6PgFj7jO"
      },
      "source": [
        "regressor.add(LSTM(units = 50, return_sequences = True))\n",
        "regressor.add(Dropout(0.2))"
      ],
      "execution_count": 10,
      "outputs": []
    },
    {
      "cell_type": "markdown",
      "metadata": {
        "id": "SYTrtfTmj933"
      },
      "source": [
        "### Adding a fourth LSTM layer and some Dropout regularisation"
      ]
    },
    {
      "cell_type": "code",
      "metadata": {
        "id": "Jp4Ty8fRkBYV"
      },
      "source": [
        "regressor.add(LSTM(units = 50))\n",
        "regressor.add(Dropout(0.2))"
      ],
      "execution_count": 11,
      "outputs": []
    },
    {
      "cell_type": "markdown",
      "metadata": {
        "id": "9ABI6rOIkHhk"
      },
      "source": [
        "### Adding the output layer"
      ]
    },
    {
      "cell_type": "code",
      "metadata": {
        "id": "aM6R1z4WkME8"
      },
      "source": [
        "regressor.add(Dense(units = 1))"
      ],
      "execution_count": 12,
      "outputs": []
    },
    {
      "cell_type": "markdown",
      "metadata": {
        "id": "zLx4K7uUkPSh"
      },
      "source": [
        "### Compiling the RNN"
      ]
    },
    {
      "cell_type": "code",
      "metadata": {
        "id": "XTrhVN-tkbko"
      },
      "source": [
        "regressor.compile(optimizer = 'adam', loss = 'mean_squared_error')"
      ],
      "execution_count": 13,
      "outputs": []
    },
    {
      "cell_type": "markdown",
      "metadata": {
        "id": "-mPhwKGkkebi"
      },
      "source": [
        "### Fitting the RNN to the Training set"
      ]
    },
    {
      "cell_type": "code",
      "metadata": {
        "id": "I06Nkrz5kkb-",
        "colab": {
          "base_uri": "https://localhost:8080/"
        },
        "outputId": "c3ebc1d9-1477-487f-c87f-6a4562284b1e"
      },
      "source": [
        "regressor.fit(X_train, y_train, epochs = 200, batch_size = 16)"
      ],
      "execution_count": 14,
      "outputs": [
        {
          "output_type": "stream",
          "name": "stdout",
          "text": [
            "Epoch 1/200\n",
            "75/75 [==============================] - 16s 104ms/step - loss: 0.0243\n",
            "Epoch 2/200\n",
            "75/75 [==============================] - 8s 101ms/step - loss: 0.0055\n",
            "Epoch 3/200\n",
            "75/75 [==============================] - 8s 101ms/step - loss: 0.0063\n",
            "Epoch 4/200\n",
            "75/75 [==============================] - 8s 102ms/step - loss: 0.0055\n",
            "Epoch 5/200\n",
            "75/75 [==============================] - 8s 101ms/step - loss: 0.0049\n",
            "Epoch 6/200\n",
            "75/75 [==============================] - 8s 102ms/step - loss: 0.0045\n",
            "Epoch 7/200\n",
            "75/75 [==============================] - 8s 101ms/step - loss: 0.0046\n",
            "Epoch 8/200\n",
            "75/75 [==============================] - 8s 101ms/step - loss: 0.0036\n",
            "Epoch 9/200\n",
            "75/75 [==============================] - 8s 102ms/step - loss: 0.0040\n",
            "Epoch 10/200\n",
            "75/75 [==============================] - 8s 101ms/step - loss: 0.0038\n",
            "Epoch 11/200\n",
            "75/75 [==============================] - 8s 102ms/step - loss: 0.0039\n",
            "Epoch 12/200\n",
            "75/75 [==============================] - 9s 119ms/step - loss: 0.0036\n",
            "Epoch 13/200\n",
            "75/75 [==============================] - 8s 101ms/step - loss: 0.0043\n",
            "Epoch 14/200\n",
            "75/75 [==============================] - 8s 109ms/step - loss: 0.0029\n",
            "Epoch 15/200\n",
            "75/75 [==============================] - 8s 110ms/step - loss: 0.0035\n",
            "Epoch 16/200\n",
            "75/75 [==============================] - 8s 101ms/step - loss: 0.0031\n",
            "Epoch 17/200\n",
            "75/75 [==============================] - 8s 102ms/step - loss: 0.0037\n",
            "Epoch 18/200\n",
            "75/75 [==============================] - 8s 102ms/step - loss: 0.0032\n",
            "Epoch 19/200\n",
            "75/75 [==============================] - 8s 101ms/step - loss: 0.0030\n",
            "Epoch 20/200\n",
            "75/75 [==============================] - 7s 100ms/step - loss: 0.0028\n",
            "Epoch 21/200\n",
            "75/75 [==============================] - 8s 102ms/step - loss: 0.0030\n",
            "Epoch 22/200\n",
            "75/75 [==============================] - 8s 102ms/step - loss: 0.0028\n",
            "Epoch 23/200\n",
            "75/75 [==============================] - 8s 101ms/step - loss: 0.0029\n",
            "Epoch 24/200\n",
            "75/75 [==============================] - 8s 102ms/step - loss: 0.0029\n",
            "Epoch 25/200\n",
            "75/75 [==============================] - 8s 100ms/step - loss: 0.0029\n",
            "Epoch 26/200\n",
            "75/75 [==============================] - 8s 101ms/step - loss: 0.0022\n",
            "Epoch 27/200\n",
            "75/75 [==============================] - 8s 100ms/step - loss: 0.0023\n",
            "Epoch 28/200\n",
            "75/75 [==============================] - 8s 101ms/step - loss: 0.0027\n",
            "Epoch 29/200\n",
            "75/75 [==============================] - 8s 100ms/step - loss: 0.0023\n",
            "Epoch 30/200\n",
            "75/75 [==============================] - 8s 101ms/step - loss: 0.0023\n",
            "Epoch 31/200\n",
            "75/75 [==============================] - 8s 101ms/step - loss: 0.0024\n",
            "Epoch 32/200\n",
            "75/75 [==============================] - 8s 100ms/step - loss: 0.0025\n",
            "Epoch 33/200\n",
            "75/75 [==============================] - 8s 101ms/step - loss: 0.0023\n",
            "Epoch 34/200\n",
            "75/75 [==============================] - 8s 102ms/step - loss: 0.0023\n",
            "Epoch 35/200\n",
            "75/75 [==============================] - 8s 101ms/step - loss: 0.0021\n",
            "Epoch 36/200\n",
            "75/75 [==============================] - 8s 101ms/step - loss: 0.0021\n",
            "Epoch 37/200\n",
            "75/75 [==============================] - 8s 101ms/step - loss: 0.0020\n",
            "Epoch 38/200\n",
            "75/75 [==============================] - 8s 101ms/step - loss: 0.0021\n",
            "Epoch 39/200\n",
            "75/75 [==============================] - 8s 102ms/step - loss: 0.0020\n",
            "Epoch 40/200\n",
            "75/75 [==============================] - 7s 100ms/step - loss: 0.0018\n",
            "Epoch 41/200\n",
            "75/75 [==============================] - 8s 100ms/step - loss: 0.0020\n",
            "Epoch 42/200\n",
            "75/75 [==============================] - 8s 101ms/step - loss: 0.0018\n",
            "Epoch 43/200\n",
            "75/75 [==============================] - 8s 100ms/step - loss: 0.0018\n",
            "Epoch 44/200\n",
            "75/75 [==============================] - 7s 99ms/step - loss: 0.0016\n",
            "Epoch 45/200\n",
            "75/75 [==============================] - 8s 102ms/step - loss: 0.0016\n",
            "Epoch 46/200\n",
            "75/75 [==============================] - 7s 99ms/step - loss: 0.0017\n",
            "Epoch 47/200\n",
            "75/75 [==============================] - 7s 100ms/step - loss: 0.0019\n",
            "Epoch 48/200\n",
            "75/75 [==============================] - 7s 100ms/step - loss: 0.0015\n",
            "Epoch 49/200\n",
            "75/75 [==============================] - 8s 101ms/step - loss: 0.0019\n",
            "Epoch 50/200\n",
            "75/75 [==============================] - 8s 101ms/step - loss: 0.0017\n",
            "Epoch 51/200\n",
            "75/75 [==============================] - 8s 100ms/step - loss: 0.0017\n",
            "Epoch 52/200\n",
            "75/75 [==============================] - 8s 102ms/step - loss: 0.0017\n",
            "Epoch 53/200\n",
            "75/75 [==============================] - 8s 100ms/step - loss: 0.0018\n",
            "Epoch 54/200\n",
            "75/75 [==============================] - 7s 100ms/step - loss: 0.0017\n",
            "Epoch 55/200\n",
            "75/75 [==============================] - 7s 100ms/step - loss: 0.0016\n",
            "Epoch 56/200\n",
            "75/75 [==============================] - 8s 101ms/step - loss: 0.0016\n",
            "Epoch 57/200\n",
            "75/75 [==============================] - 8s 101ms/step - loss: 0.0014\n",
            "Epoch 58/200\n",
            "75/75 [==============================] - 8s 102ms/step - loss: 0.0016\n",
            "Epoch 59/200\n",
            "75/75 [==============================] - 7s 100ms/step - loss: 0.0016\n",
            "Epoch 60/200\n",
            "75/75 [==============================] - 8s 100ms/step - loss: 0.0013\n",
            "Epoch 61/200\n",
            "75/75 [==============================] - 8s 101ms/step - loss: 0.0015\n",
            "Epoch 62/200\n",
            "75/75 [==============================] - 8s 101ms/step - loss: 0.0015\n",
            "Epoch 63/200\n",
            "75/75 [==============================] - 8s 102ms/step - loss: 0.0016\n",
            "Epoch 64/200\n",
            "75/75 [==============================] - 8s 102ms/step - loss: 0.0016\n",
            "Epoch 65/200\n",
            "75/75 [==============================] - 8s 101ms/step - loss: 0.0014\n",
            "Epoch 66/200\n",
            "75/75 [==============================] - 8s 102ms/step - loss: 0.0015\n",
            "Epoch 67/200\n",
            "75/75 [==============================] - 7s 100ms/step - loss: 0.0013\n",
            "Epoch 68/200\n",
            "75/75 [==============================] - 8s 102ms/step - loss: 0.0016\n",
            "Epoch 69/200\n",
            "75/75 [==============================] - 8s 102ms/step - loss: 0.0015\n",
            "Epoch 70/200\n",
            "75/75 [==============================] - 8s 101ms/step - loss: 0.0016\n",
            "Epoch 71/200\n",
            "75/75 [==============================] - 8s 101ms/step - loss: 0.0014\n",
            "Epoch 72/200\n",
            "75/75 [==============================] - 8s 100ms/step - loss: 0.0014\n",
            "Epoch 73/200\n",
            "75/75 [==============================] - 8s 101ms/step - loss: 0.0015\n",
            "Epoch 74/200\n",
            "75/75 [==============================] - 8s 102ms/step - loss: 0.0013\n",
            "Epoch 75/200\n",
            "75/75 [==============================] - 8s 101ms/step - loss: 0.0012\n",
            "Epoch 76/200\n",
            "75/75 [==============================] - 8s 101ms/step - loss: 0.0013\n",
            "Epoch 77/200\n",
            "75/75 [==============================] - 8s 101ms/step - loss: 0.0013\n",
            "Epoch 78/200\n",
            "75/75 [==============================] - 8s 101ms/step - loss: 0.0012\n",
            "Epoch 79/200\n",
            "75/75 [==============================] - 8s 103ms/step - loss: 0.0015\n",
            "Epoch 80/200\n",
            "75/75 [==============================] - 8s 101ms/step - loss: 0.0015\n",
            "Epoch 81/200\n",
            "75/75 [==============================] - 8s 101ms/step - loss: 0.0015\n",
            "Epoch 82/200\n",
            "75/75 [==============================] - 8s 102ms/step - loss: 0.0015\n",
            "Epoch 83/200\n",
            "75/75 [==============================] - 8s 101ms/step - loss: 0.0013\n",
            "Epoch 84/200\n",
            "75/75 [==============================] - 8s 101ms/step - loss: 0.0013\n",
            "Epoch 85/200\n",
            "75/75 [==============================] - 8s 101ms/step - loss: 0.0013\n",
            "Epoch 86/200\n",
            "75/75 [==============================] - 8s 101ms/step - loss: 0.0012\n",
            "Epoch 87/200\n",
            "75/75 [==============================] - 8s 101ms/step - loss: 0.0012\n",
            "Epoch 88/200\n",
            "75/75 [==============================] - 8s 102ms/step - loss: 0.0013\n",
            "Epoch 89/200\n",
            "75/75 [==============================] - 8s 101ms/step - loss: 0.0012\n",
            "Epoch 90/200\n",
            "75/75 [==============================] - 8s 102ms/step - loss: 0.0013\n",
            "Epoch 91/200\n",
            "75/75 [==============================] - 8s 101ms/step - loss: 0.0012\n",
            "Epoch 92/200\n",
            "75/75 [==============================] - 8s 101ms/step - loss: 0.0012\n",
            "Epoch 93/200\n",
            "75/75 [==============================] - 8s 100ms/step - loss: 0.0012\n",
            "Epoch 94/200\n",
            "75/75 [==============================] - 8s 100ms/step - loss: 0.0011\n",
            "Epoch 95/200\n",
            "75/75 [==============================] - 7s 99ms/step - loss: 0.0012\n",
            "Epoch 96/200\n",
            "75/75 [==============================] - 8s 101ms/step - loss: 0.0014\n",
            "Epoch 97/200\n",
            "75/75 [==============================] - 8s 101ms/step - loss: 0.0012\n",
            "Epoch 98/200\n",
            "75/75 [==============================] - 8s 101ms/step - loss: 0.0012\n",
            "Epoch 99/200\n",
            "75/75 [==============================] - 7s 99ms/step - loss: 0.0012\n",
            "Epoch 100/200\n",
            "75/75 [==============================] - 7s 100ms/step - loss: 0.0014\n",
            "Epoch 101/200\n",
            "75/75 [==============================] - 8s 101ms/step - loss: 0.0012\n",
            "Epoch 102/200\n",
            "75/75 [==============================] - 8s 101ms/step - loss: 0.0012\n",
            "Epoch 103/200\n",
            "75/75 [==============================] - 8s 102ms/step - loss: 0.0011\n",
            "Epoch 104/200\n",
            "75/75 [==============================] - 8s 101ms/step - loss: 0.0012\n",
            "Epoch 105/200\n",
            "75/75 [==============================] - 8s 102ms/step - loss: 0.0012\n",
            "Epoch 106/200\n",
            "75/75 [==============================] - 8s 103ms/step - loss: 0.0012\n",
            "Epoch 107/200\n",
            "75/75 [==============================] - 8s 101ms/step - loss: 0.0012\n",
            "Epoch 108/200\n",
            "75/75 [==============================] - 8s 102ms/step - loss: 0.0012\n",
            "Epoch 109/200\n",
            "75/75 [==============================] - 8s 101ms/step - loss: 0.0012\n",
            "Epoch 110/200\n",
            "75/75 [==============================] - 8s 102ms/step - loss: 0.0011\n",
            "Epoch 111/200\n",
            "75/75 [==============================] - 8s 102ms/step - loss: 0.0012\n",
            "Epoch 112/200\n",
            "75/75 [==============================] - 8s 104ms/step - loss: 0.0013\n",
            "Epoch 113/200\n",
            "75/75 [==============================] - 8s 104ms/step - loss: 0.0012\n",
            "Epoch 114/200\n",
            "75/75 [==============================] - 8s 101ms/step - loss: 0.0013\n",
            "Epoch 115/200\n",
            "75/75 [==============================] - 7s 100ms/step - loss: 9.5921e-04\n",
            "Epoch 116/200\n",
            "75/75 [==============================] - 8s 101ms/step - loss: 0.0011\n",
            "Epoch 117/200\n",
            "75/75 [==============================] - 8s 102ms/step - loss: 0.0011\n",
            "Epoch 118/200\n",
            "75/75 [==============================] - 8s 104ms/step - loss: 0.0012\n",
            "Epoch 119/200\n",
            "75/75 [==============================] - 8s 101ms/step - loss: 0.0011\n",
            "Epoch 120/200\n",
            "75/75 [==============================] - 8s 101ms/step - loss: 0.0011\n",
            "Epoch 121/200\n",
            "75/75 [==============================] - 8s 102ms/step - loss: 0.0011\n",
            "Epoch 122/200\n",
            "75/75 [==============================] - 8s 101ms/step - loss: 0.0011\n",
            "Epoch 123/200\n",
            "75/75 [==============================] - 8s 102ms/step - loss: 0.0010\n",
            "Epoch 124/200\n",
            "75/75 [==============================] - 8s 102ms/step - loss: 0.0012\n",
            "Epoch 125/200\n",
            "75/75 [==============================] - 8s 101ms/step - loss: 0.0011\n",
            "Epoch 126/200\n",
            "75/75 [==============================] - 8s 102ms/step - loss: 0.0013\n",
            "Epoch 127/200\n",
            "75/75 [==============================] - 8s 102ms/step - loss: 0.0012\n",
            "Epoch 128/200\n",
            "75/75 [==============================] - 8s 103ms/step - loss: 0.0012\n",
            "Epoch 129/200\n",
            "75/75 [==============================] - 8s 103ms/step - loss: 9.7160e-04\n",
            "Epoch 130/200\n",
            "75/75 [==============================] - 8s 102ms/step - loss: 0.0011\n",
            "Epoch 131/200\n",
            "75/75 [==============================] - 8s 102ms/step - loss: 0.0011\n",
            "Epoch 132/200\n",
            "75/75 [==============================] - 8s 103ms/step - loss: 0.0012\n",
            "Epoch 133/200\n",
            "75/75 [==============================] - 8s 102ms/step - loss: 0.0011\n",
            "Epoch 134/200\n",
            "75/75 [==============================] - 8s 102ms/step - loss: 0.0011\n",
            "Epoch 135/200\n",
            "75/75 [==============================] - 8s 102ms/step - loss: 0.0012\n",
            "Epoch 136/200\n",
            "75/75 [==============================] - 8s 101ms/step - loss: 0.0011\n",
            "Epoch 137/200\n",
            "75/75 [==============================] - 8s 102ms/step - loss: 0.0011\n",
            "Epoch 138/200\n",
            "75/75 [==============================] - 8s 102ms/step - loss: 0.0012\n",
            "Epoch 139/200\n",
            "75/75 [==============================] - 8s 101ms/step - loss: 0.0012\n",
            "Epoch 140/200\n",
            "75/75 [==============================] - 8s 102ms/step - loss: 0.0011\n",
            "Epoch 141/200\n",
            "75/75 [==============================] - 8s 101ms/step - loss: 0.0010\n",
            "Epoch 142/200\n",
            "75/75 [==============================] - 8s 101ms/step - loss: 0.0011\n",
            "Epoch 143/200\n",
            "75/75 [==============================] - 8s 101ms/step - loss: 0.0010\n",
            "Epoch 144/200\n",
            "75/75 [==============================] - 8s 103ms/step - loss: 0.0010\n",
            "Epoch 145/200\n",
            "75/75 [==============================] - 8s 103ms/step - loss: 0.0010\n",
            "Epoch 146/200\n",
            "75/75 [==============================] - 8s 102ms/step - loss: 0.0011\n",
            "Epoch 147/200\n",
            "75/75 [==============================] - 8s 102ms/step - loss: 0.0011\n",
            "Epoch 148/200\n",
            "75/75 [==============================] - 8s 102ms/step - loss: 0.0011\n",
            "Epoch 149/200\n",
            "75/75 [==============================] - 8s 101ms/step - loss: 0.0010\n",
            "Epoch 150/200\n",
            "75/75 [==============================] - 8s 102ms/step - loss: 0.0010\n",
            "Epoch 151/200\n",
            "75/75 [==============================] - 8s 102ms/step - loss: 0.0013\n",
            "Epoch 152/200\n",
            "75/75 [==============================] - 8s 102ms/step - loss: 0.0010\n",
            "Epoch 153/200\n",
            "75/75 [==============================] - 8s 102ms/step - loss: 0.0010\n",
            "Epoch 154/200\n",
            "75/75 [==============================] - 8s 103ms/step - loss: 0.0011\n",
            "Epoch 155/200\n",
            "75/75 [==============================] - 8s 102ms/step - loss: 0.0013\n",
            "Epoch 156/200\n",
            "75/75 [==============================] - 8s 101ms/step - loss: 9.9603e-04\n",
            "Epoch 157/200\n",
            "75/75 [==============================] - 8s 104ms/step - loss: 9.0947e-04\n",
            "Epoch 158/200\n",
            "75/75 [==============================] - 8s 103ms/step - loss: 9.9143e-04\n",
            "Epoch 159/200\n",
            "75/75 [==============================] - 8s 102ms/step - loss: 0.0011\n",
            "Epoch 160/200\n",
            "75/75 [==============================] - 8s 103ms/step - loss: 0.0012\n",
            "Epoch 161/200\n",
            "75/75 [==============================] - 8s 102ms/step - loss: 0.0011\n",
            "Epoch 162/200\n",
            "75/75 [==============================] - 8s 102ms/step - loss: 0.0010\n",
            "Epoch 163/200\n",
            "75/75 [==============================] - 8s 102ms/step - loss: 9.5932e-04\n",
            "Epoch 164/200\n",
            "75/75 [==============================] - 8s 102ms/step - loss: 0.0010\n",
            "Epoch 165/200\n",
            "75/75 [==============================] - 8s 102ms/step - loss: 9.8112e-04\n",
            "Epoch 166/200\n",
            "75/75 [==============================] - 8s 101ms/step - loss: 9.5062e-04\n",
            "Epoch 167/200\n",
            "75/75 [==============================] - 8s 102ms/step - loss: 9.2254e-04\n",
            "Epoch 168/200\n",
            "75/75 [==============================] - 8s 102ms/step - loss: 0.0010\n",
            "Epoch 169/200\n",
            "75/75 [==============================] - 8s 103ms/step - loss: 0.0012\n",
            "Epoch 170/200\n",
            "75/75 [==============================] - 8s 104ms/step - loss: 0.0012\n",
            "Epoch 171/200\n",
            "75/75 [==============================] - 8s 102ms/step - loss: 9.7171e-04\n",
            "Epoch 172/200\n",
            "75/75 [==============================] - 8s 102ms/step - loss: 0.0010\n",
            "Epoch 173/200\n",
            "75/75 [==============================] - 8s 102ms/step - loss: 9.4109e-04\n",
            "Epoch 174/200\n",
            "75/75 [==============================] - 8s 101ms/step - loss: 8.9796e-04\n",
            "Epoch 175/200\n",
            "75/75 [==============================] - 8s 101ms/step - loss: 9.9602e-04\n",
            "Epoch 176/200\n",
            "75/75 [==============================] - 8s 101ms/step - loss: 0.0010\n",
            "Epoch 177/200\n",
            "75/75 [==============================] - 8s 102ms/step - loss: 9.4954e-04\n",
            "Epoch 178/200\n",
            "75/75 [==============================] - 8s 102ms/step - loss: 0.0011\n",
            "Epoch 179/200\n",
            "75/75 [==============================] - 8s 102ms/step - loss: 0.0011\n",
            "Epoch 180/200\n",
            "75/75 [==============================] - 8s 100ms/step - loss: 0.0011\n",
            "Epoch 181/200\n",
            "75/75 [==============================] - 8s 101ms/step - loss: 9.9522e-04\n",
            "Epoch 182/200\n",
            "75/75 [==============================] - 7s 100ms/step - loss: 9.3189e-04\n",
            "Epoch 183/200\n",
            "75/75 [==============================] - 8s 101ms/step - loss: 9.5628e-04\n",
            "Epoch 184/200\n",
            "75/75 [==============================] - 8s 101ms/step - loss: 0.0011\n",
            "Epoch 185/200\n",
            "75/75 [==============================] - 8s 100ms/step - loss: 9.1676e-04\n",
            "Epoch 186/200\n",
            "75/75 [==============================] - 8s 101ms/step - loss: 9.1518e-04\n",
            "Epoch 187/200\n",
            "75/75 [==============================] - 8s 103ms/step - loss: 0.0012\n",
            "Epoch 188/200\n",
            "75/75 [==============================] - 8s 101ms/step - loss: 0.0011\n",
            "Epoch 189/200\n",
            "75/75 [==============================] - 8s 101ms/step - loss: 0.0011\n",
            "Epoch 190/200\n",
            "75/75 [==============================] - 8s 101ms/step - loss: 0.0011\n",
            "Epoch 191/200\n",
            "75/75 [==============================] - 8s 101ms/step - loss: 0.0011\n",
            "Epoch 192/200\n",
            "75/75 [==============================] - 8s 103ms/step - loss: 0.0010\n",
            "Epoch 193/200\n",
            "75/75 [==============================] - 8s 100ms/step - loss: 0.0011\n",
            "Epoch 194/200\n",
            "75/75 [==============================] - 8s 101ms/step - loss: 9.3333e-04\n",
            "Epoch 195/200\n",
            "75/75 [==============================] - 8s 101ms/step - loss: 9.8366e-04\n",
            "Epoch 196/200\n",
            "75/75 [==============================] - 8s 102ms/step - loss: 0.0010\n",
            "Epoch 197/200\n",
            "75/75 [==============================] - 8s 102ms/step - loss: 9.4194e-04\n",
            "Epoch 198/200\n",
            "75/75 [==============================] - 8s 100ms/step - loss: 8.6875e-04\n",
            "Epoch 199/200\n",
            "75/75 [==============================] - 7s 100ms/step - loss: 0.0010\n",
            "Epoch 200/200\n",
            "75/75 [==============================] - 8s 101ms/step - loss: 9.3663e-04\n"
          ]
        },
        {
          "output_type": "execute_result",
          "data": {
            "text/plain": [
              "<keras.callbacks.History at 0x7f9f075c7650>"
            ]
          },
          "metadata": {},
          "execution_count": 14
        }
      ]
    },
    {
      "cell_type": "markdown",
      "metadata": {
        "id": "4hRau_lIkrE8"
      },
      "source": [
        "## Part 3 - Making the predictions and visualising the results"
      ]
    },
    {
      "cell_type": "markdown",
      "metadata": {
        "id": "SgJO6qEDksxD"
      },
      "source": [
        "### Getting the real stock price of 2017"
      ]
    },
    {
      "cell_type": "code",
      "metadata": {
        "id": "FmBT2zqukxTz"
      },
      "source": [
        "dataset_test = pd.read_csv('Google_Stock_Price_Test.csv')\n",
        "real_stock_price = dataset_test.iloc[:, 1:2].values"
      ],
      "execution_count": 15,
      "outputs": []
    },
    {
      "cell_type": "markdown",
      "metadata": {
        "id": "GrvrLblxkz42"
      },
      "source": [
        "### Getting the predicted stock price of 2017"
      ]
    },
    {
      "cell_type": "code",
      "metadata": {
        "id": "emikTvUpk3Ck"
      },
      "source": [
        "dataset_total = pd.concat((dataset_train['Open'], dataset_test['Open']), axis = 0)\n",
        "inputs = dataset_total[len(dataset_total) - len(dataset_test) - 60:].values\n",
        "inputs = inputs.reshape(-1,1)\n",
        "inputs = sc.transform(inputs)\n",
        "X_test = []\n",
        "for i in range(60, 80):\n",
        "    X_test.append(inputs[i-60:i, 0])\n",
        "X_test = np.array(X_test)\n",
        "X_test = np.reshape(X_test, (X_test.shape[0], X_test.shape[1], 1))\n",
        "predicted_stock_price = regressor.predict(X_test)\n",
        "predicted_stock_price = sc.inverse_transform(predicted_stock_price)"
      ],
      "execution_count": 16,
      "outputs": []
    },
    {
      "cell_type": "markdown",
      "source": [
        "MAPE calculation:"
      ],
      "metadata": {
        "id": "kiiEluV6rIqL"
      }
    },
    {
      "cell_type": "code",
      "source": [
        "actual, pred = np.array(real_stock_price), np.array(predicted_stock_price)\n",
        "final_mape = np.mean(np.abs((actual - pred) / actual)) * 100\n",
        "print(final_mape)"
      ],
      "metadata": {
        "colab": {
          "base_uri": "https://localhost:8080/"
        },
        "id": "jKnOv8CYrRuy",
        "outputId": "8ca94a92-8d40-4288-cf75-a7f6bb1a243c"
      },
      "execution_count": 17,
      "outputs": [
        {
          "output_type": "stream",
          "name": "stdout",
          "text": [
            "2.5514756817140585\n"
          ]
        }
      ]
    },
    {
      "cell_type": "markdown",
      "metadata": {
        "id": "iFTNs3YHk6FQ"
      },
      "source": [
        "### Visualising the results"
      ]
    },
    {
      "cell_type": "code",
      "metadata": {
        "id": "8OUI8U49k9tH",
        "colab": {
          "base_uri": "https://localhost:8080/",
          "height": 295
        },
        "outputId": "fb9697ba-e4ec-4e00-90ae-68e5e687b682"
      },
      "source": [
        "plt.plot(real_stock_price, color = 'red', label = 'Actual Stock price curve')\n",
        "plt.plot(predicted_stock_price, color = 'blue', label = 'Predicted Stock Price curve')\n",
        "plt.title('Stock Price Prediction using RNN with LSTM')\n",
        "plt.xlabel('Time')\n",
        "plt.ylabel('Stock Price')\n",
        "plt.legend()\n",
        "plt.show()"
      ],
      "execution_count": 18,
      "outputs": [
        {
          "output_type": "display_data",
          "data": {
            "text/plain": [
              "<Figure size 432x288 with 1 Axes>"
            ],
            "image/png": "[encoded data removed]"
          },
          "metadata": {
            "needs_background": "light"
          }
        }
      ]
    }
  ]
}